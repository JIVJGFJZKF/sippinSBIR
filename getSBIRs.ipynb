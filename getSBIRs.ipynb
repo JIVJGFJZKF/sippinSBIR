{
 "cells": [
  {
   "cell_type": "code",
   "execution_count": 1,
   "metadata": {},
   "outputs": [],
   "source": [
    "import pandas as pd\n",
    "import requests\n",
    "from bs4 import BeautifulSoup"
   ]
  },
  {
   "cell_type": "code",
   "execution_count": 2,
   "metadata": {},
   "outputs": [],
   "source": [
    "import urllib.request\n",
    "import urllib.error\n",
    "import time, itertools\n",
    "from multiprocessing import Pool"
   ]
  },
  {
   "cell_type": "markdown",
   "metadata": {},
   "source": [
    "# Setup Functions"
   ]
  },
  {
   "cell_type": "code",
   "execution_count": 3,
   "metadata": {
    "scrolled": false
   },
   "outputs": [],
   "source": [
    "# valHTML is a Python response from a get.\n",
    "def findResultsPageMax(valHTML):\n",
    "    rtnVal = -1\n",
    "    valBS = BeautifulSoup(valHTML.text,'lxml')\n",
    "    valTags = valBS.find_all('li')\n",
    "    tmpURLs = []\n",
    "    for i in valTags:\n",
    "        valAs = i.find('a')\n",
    "        try:\n",
    "            tmpURLs.append(valAs.attrs['href'])\n",
    "        except:\n",
    "            None\n",
    "    tmpAllURLs = pd.DataFrame({'URLs': tmpURLs})\n",
    "    tmpSubset = tmpAllURLs.loc[tmpAllURLs['URLs'].str.contains('/sbirsearch/award/all\\?page=')].copy()\n",
    "    tmpSubset['Number'] = tmpSubset['URLs'].str.extract('([0-9]+)$',expand=False)\n",
    "    tmpSubset['Number'] = pd.to_numeric(tmpSubset['Number'])\n",
    "    tmpSubset.dropna(inplace=True)\n",
    "    rtnVal = int(max(tmpSubset['Number']))\n",
    "    return(rtnVal)"
   ]
  },
  {
   "cell_type": "code",
   "execution_count": 4,
   "metadata": {},
   "outputs": [],
   "source": [
    "def getResultPage(valURL,valMaxTries=10):\n",
    "    valCnt = 1\n",
    "    isBad = True\n",
    "    rtnVal = None\n",
    "    while(isBad and valCnt < valMaxTries):\n",
    "        try:\n",
    "            tmpResponse = requests.get(valURL)\n",
    "            if(tmpResponse.status_code==200):\n",
    "                isBad = False\n",
    "                rtnVal = tmpResponse\n",
    "        except:\n",
    "            None\n",
    "        valCnt += 1\n",
    "    return(rtnVal)"
   ]
  },
  {
   "cell_type": "code",
   "execution_count": 5,
   "metadata": {},
   "outputs": [],
   "source": [
    "def getResultPageQuick(valURL):\n",
    "    rtnValHTML = None\n",
    "    rtnValStatusCode = -1\n",
    "    try:\n",
    "        tmpConnection = urllib.request.urlopen(valURL)\n",
    "        rtnValStatusCode = tmpConnection.getcode()\n",
    "        with tmpConnection as tmpResponse:\n",
    "            rtnValHTML = tmpResponse.read()\n",
    "    except urllib.error.HTTPError as e:\n",
    "        print('HTTPError: {}'.format(e.code) + ', ' + url)\n",
    "    return([rtnValStatusCode,valURL,rtnValHTML])"
   ]
  },
  {
   "cell_type": "code",
   "execution_count": 6,
   "metadata": {},
   "outputs": [],
   "source": [
    "def getResultSBIRLinks(valHTML):\n",
    "    valBS = BeautifulSoup(valHTML,'lxml')\n",
    "    valTags = valBS.find_all('h3')\n",
    "    tmpURLs = []\n",
    "    for i in valTags:\n",
    "        valAs = i.find('a')\n",
    "        tmpURLs.append(valAs.attrs['href'])\n",
    "    return(tmpURLs)"
   ]
  },
  {
   "cell_type": "markdown",
   "metadata": {},
   "source": [
    "# Setup"
   ]
  },
  {
   "cell_type": "code",
   "execution_count": 7,
   "metadata": {},
   "outputs": [],
   "source": [
    "valRetries = 10\n",
    "valMin = 0\n",
    "valURLBase = r'https://www.sbir.gov/sbirsearch/award/all?page='\n",
    "\n",
    "valMax = findResultsPageMax(getResultPage(valURLBase+str(valMin),100))\n",
    "valNumRun = 150\n",
    "valRange = range(valMin,valNumRun)#valMax+1)"
   ]
  },
  {
   "cell_type": "markdown",
   "metadata": {},
   "source": [
    "# Get SBIR Results"
   ]
  },
  {
   "cell_type": "code",
   "execution_count": 8,
   "metadata": {},
   "outputs": [
    {
     "name": "stdout",
     "output_type": "stream",
     "text": [
      "Finished Retrieving 0 Pages...\n",
      "CPU times: user 20.4 s, sys: 346 ms, total: 20.7 s\n",
      "Wall time: 5min 9s\n"
     ]
    }
   ],
   "source": [
    "%%time\n",
    "tmpResultsPage = []\n",
    "tmpSBIRLinks = pd.DataFrame()\n",
    "\n",
    "for i in valRange:\n",
    "    tmpURL = valURLBase+str(i)\n",
    "    valSearchResultsPage = getResultPage(tmpURL,valRetries)\n",
    "    tmpResultsPage.append(valSearchResultsPage)\n",
    "    valSBIRLinks = getResultSBIRLinks(valSearchResultsPage.text)\n",
    "    tmpDF = pd.DataFrame({'URLSBIR': valSBIRLinks})\n",
    "    tmpDF['ResultsPage'] = i\n",
    "    tmpSBIRLinks = tmpSBIRLinks.append(tmpDF)\n",
    "    if((i % 1000)==0):\n",
    "        print(\"Finished Retrieving \"+str(i)+\" Pages...\")"
   ]
  },
  {
   "cell_type": "code",
   "execution_count": 9,
   "metadata": {},
   "outputs": [
    {
     "name": "stdout",
     "output_type": "stream",
     "text": [
      "CPU times: user 30.1 s, sys: 2.57 s, total: 32.7 s\n",
      "Wall time: 50min 52s\n"
     ]
    }
   ],
   "source": [
    "%%time\n",
    "tmpSBIRLinks['URLSBIRev'] = r'https://www.sbir.gov'+tmpSBIRLinks['URLSBIR']\n",
    "tmpSBIRLinks['SBIResponse'] = tmpSBIRLinks['URLSBIRev'].apply(lambda x: getResultPage(x,valRetries))\n",
    "tmpSBIRLinks['HTMLText'] = tmpSBIRLinks['SBIResponse'].apply(lambda x: x.text)"
   ]
  },
  {
   "cell_type": "code",
   "execution_count": 10,
   "metadata": {},
   "outputs": [
    {
     "name": "stdout",
     "output_type": "stream",
     "text": [
      "(1500, 5)\n"
     ]
    }
   ],
   "source": [
    "print(tmpSBIRLinks.shape)"
   ]
  },
  {
   "cell_type": "code",
   "execution_count": 11,
   "metadata": {},
   "outputs": [],
   "source": [
    "#tmpSBIRLinks.to_excel('./SBIRAwards.xlsx')"
   ]
  },
  {
   "cell_type": "markdown",
   "metadata": {},
   "source": [
    "# Multithreading"
   ]
  },
  {
   "cell_type": "code",
   "execution_count": 12,
   "metadata": {},
   "outputs": [
    {
     "name": "stdout",
     "output_type": "stream",
     "text": [
      "CPU times: user 18.1 s, sys: 311 ms, total: 18.5 s\n",
      "Wall time: 1min 8s\n"
     ]
    }
   ],
   "source": [
    "%%time\n",
    "valRange = range(valMin,valNumRun)#valMax+1)\n",
    "tmpURLs = [valURLBase+str(i) for i in list(valRange)]\n",
    "\n",
    "if __name__ == \"__main__\":\n",
    "    valProcessPool = Pool(processes=20)\n",
    "    tmpResults = valProcessPool.map(getResultPageQuick, tmpURLs)\n",
    "    tmpDFResults = pd.DataFrame(tmpResults,columns=['StatusCode','URL','Response'])\n",
    "    valSBIRLinks = tmpDFResults.apply(lambda x: getResultSBIRLinks(x['Response']),axis=1)\n",
    "    tmpDFSBIRLinks = pd.DataFrame(list(itertools.chain.from_iterable(valSBIRLinks)),columns=['URLSBIR'])"
   ]
  },
  {
   "cell_type": "code",
   "execution_count": 13,
   "metadata": {},
   "outputs": [
    {
     "name": "stdout",
     "output_type": "stream",
     "text": [
      "CPU times: user 179 ms, sys: 119 ms, total: 297 ms\n",
      "Wall time: 48.7 s\n"
     ]
    }
   ],
   "source": [
    "%%time\n",
    "if __name__ == \"__main__\":\n",
    "    tmpDFSBIRLinks['URLSBIRev'] = r'https://www.sbir.gov'+tmpDFSBIRLinks['URLSBIR']\n",
    "    tmpSBIRVals = valProcessPool.map(getResultPageQuick, tmpDFSBIRLinks['URLSBIRev'].tolist())\n",
    "    tmpDFSBIRResults = pd.DataFrame(tmpSBIRVals,columns=['StatusCode','URL','HTMLText'])\n",
    "    tmpSBIRResponse = pd.merge(left=tmpDFSBIRLinks,right=tmpDFSBIRResults,left_on='URLSBIRev',right_on='URL',how='outer')"
   ]
  },
  {
   "cell_type": "code",
   "execution_count": 14,
   "metadata": {},
   "outputs": [
    {
     "name": "stdout",
     "output_type": "stream",
     "text": [
      "(1500, 5)\n"
     ]
    }
   ],
   "source": [
    "print(tmpSBIRResponse.shape)"
   ]
  },
  {
   "cell_type": "code",
   "execution_count": null,
   "metadata": {},
   "outputs": [],
   "source": []
  }
 ],
 "metadata": {
  "kernelspec": {
   "display_name": "Python 3",
   "language": "python",
   "name": "python3"
  },
  "language_info": {
   "codemirror_mode": {
    "name": "ipython",
    "version": 3
   },
   "file_extension": ".py",
   "mimetype": "text/x-python",
   "name": "python",
   "nbconvert_exporter": "python",
   "pygments_lexer": "ipython3",
   "version": "3.6.5"
  }
 },
 "nbformat": 4,
 "nbformat_minor": 2
}
