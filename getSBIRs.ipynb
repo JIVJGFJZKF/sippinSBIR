{
 "cells": [
  {
   "cell_type": "code",
   "execution_count": 1,
   "metadata": {},
   "outputs": [],
   "source": [
    "import pandas as pd\n",
    "import requests\n",
    "from bs4 import BeautifulSoup"
   ]
  },
  {
   "cell_type": "code",
   "execution_count": 2,
   "metadata": {},
   "outputs": [],
   "source": [
    "import urllib.request\n",
    "import urllib.error\n",
    "import time, itertools, re\n",
    "from multiprocessing import Pool"
   ]
  },
  {
   "cell_type": "markdown",
   "metadata": {},
   "source": [
    "# Setup Functions"
   ]
  },
  {
   "cell_type": "code",
   "execution_count": 3,
   "metadata": {
    "scrolled": false
   },
   "outputs": [],
   "source": [
    "# valHTML is a Python response from a get.\n",
    "def findResultsPageMax(valHTML):\n",
    "    rtnVal = -1\n",
    "    valBS = BeautifulSoup(valHTML.text,'lxml')\n",
    "    valTags = valBS.find_all('li')\n",
    "    tmpURLs = []\n",
    "    for i in valTags:\n",
    "        valAs = i.find('a')\n",
    "        try:\n",
    "            tmpURLs.append(valAs.attrs['href'])\n",
    "        except:\n",
    "            None\n",
    "    tmpAllURLs = pd.DataFrame({'URLs': tmpURLs})\n",
    "    tmpSubset = tmpAllURLs.loc[tmpAllURLs['URLs'].str.contains('/sbirsearch/award/all\\?page=')].copy()\n",
    "    tmpSubset['Number'] = tmpSubset['URLs'].str.extract('([0-9]+)$',expand=False)\n",
    "    tmpSubset['Number'] = pd.to_numeric(tmpSubset['Number'])\n",
    "    tmpSubset.dropna(inplace=True)\n",
    "    rtnVal = int(max(tmpSubset['Number']))\n",
    "    return(rtnVal)"
   ]
  },
  {
   "cell_type": "code",
   "execution_count": 4,
   "metadata": {},
   "outputs": [],
   "source": [
    "def getResultPage(valURL,valMaxTries=10):\n",
    "    valCnt = 1\n",
    "    isBad = True\n",
    "    rtnVal = None\n",
    "    while(isBad and valCnt < valMaxTries):\n",
    "        try:\n",
    "            tmpResponse = requests.get(valURL)\n",
    "            if(tmpResponse.status_code==200):\n",
    "                isBad = False\n",
    "                rtnVal = tmpResponse\n",
    "        except:\n",
    "            None\n",
    "        valCnt += 1\n",
    "    return(rtnVal)"
   ]
  },
  {
   "cell_type": "code",
   "execution_count": 5,
   "metadata": {},
   "outputs": [],
   "source": [
    "def getResultPageQuick(valURL):\n",
    "    rtnValHTML = None\n",
    "    rtnValStatusCode = -1\n",
    "    try:\n",
    "        tmpConnection = urllib.request.urlopen(valURL)\n",
    "        rtnValStatusCode = tmpConnection.getcode()\n",
    "        with tmpConnection as tmpResponse:\n",
    "            rtnValHTML = tmpResponse.read()\n",
    "    except urllib.error.HTTPError as e:\n",
    "        print('HTTPError: {}'.format(e.code) + ', ' + url)\n",
    "    return([rtnValStatusCode,valURL,rtnValHTML])"
   ]
  },
  {
   "cell_type": "code",
   "execution_count": 6,
   "metadata": {},
   "outputs": [],
   "source": [
    "def getResultSBIRLinks(valHTML):\n",
    "    valBS = BeautifulSoup(valHTML,'lxml')\n",
    "    valTags = valBS.find_all('h3')\n",
    "    tmpURLs = []\n",
    "    for i in valTags:\n",
    "        valAs = i.find('a')\n",
    "        tmpURLs.append(valAs.attrs['href'])\n",
    "    return(tmpURLs)"
   ]
  },
  {
   "cell_type": "markdown",
   "metadata": {},
   "source": [
    "# Setup"
   ]
  },
  {
   "cell_type": "code",
   "execution_count": 7,
   "metadata": {},
   "outputs": [],
   "source": [
    "valRetries = 10\n",
    "valMin = 0\n",
    "valURLBase = r'https://www.sbir.gov/sbirsearch/award/all?page='\n",
    "\n",
    "valMax = findResultsPageMax(getResultPage(valURLBase+str(valMin),100))\n",
    "valNumRun = 200\n",
    "valRange = range(valMin,valNumRun)#valMax+1)"
   ]
  },
  {
   "cell_type": "markdown",
   "metadata": {},
   "source": [
    "# Get SBIR Results\n",
    "## Single Threaded"
   ]
  },
  {
   "cell_type": "code",
   "execution_count": null,
   "metadata": {},
   "outputs": [],
   "source": [
    "%%time\n",
    "tmpResultsPage = []\n",
    "tmpSBIRLinks = pd.DataFrame()\n",
    "\n",
    "for i in valRange:\n",
    "    tmpURL = valURLBase+str(i)\n",
    "    valSearchResultsPage = getResultPage(tmpURL,valRetries)\n",
    "    tmpResultsPage.append(valSearchResultsPage)\n",
    "    valSBIRLinks = getResultSBIRLinks(valSearchResultsPage.text)\n",
    "    tmpDF = pd.DataFrame({'URLSBIR': valSBIRLinks})\n",
    "    tmpDF['ResultsPage'] = i\n",
    "    tmpSBIRLinks = tmpSBIRLinks.append(tmpDF)\n",
    "    if((i % 1000)==0):\n",
    "        print(\"Finished Retrieving \"+str(i)+\" Pages...\")"
   ]
  },
  {
   "cell_type": "code",
   "execution_count": null,
   "metadata": {},
   "outputs": [],
   "source": [
    "%%time\n",
    "tmpSBIRLinks['URLSBIRev'] = r'https://www.sbir.gov'+tmpSBIRLinks['URLSBIR']\n",
    "tmpSBIRLinks['SBIResponse'] = tmpSBIRLinks['URLSBIRev'].apply(lambda x: getResultPage(x,valRetries))\n",
    "tmpSBIRLinks['HTMLText'] = tmpSBIRLinks['SBIResponse'].apply(lambda x: x.text)"
   ]
  },
  {
   "cell_type": "code",
   "execution_count": null,
   "metadata": {},
   "outputs": [],
   "source": [
    "print(tmpSBIRLinks.shape)"
   ]
  },
  {
   "cell_type": "code",
   "execution_count": null,
   "metadata": {},
   "outputs": [],
   "source": [
    "#tmpSBIRLinks.to_excel('./SBIRAwards.xlsx')"
   ]
  },
  {
   "cell_type": "markdown",
   "metadata": {},
   "source": [
    "## Multi-Threaded"
   ]
  },
  {
   "cell_type": "code",
   "execution_count": 8,
   "metadata": {},
   "outputs": [
    {
     "name": "stdout",
     "output_type": "stream",
     "text": [
      "CPU times: user 23 s, sys: 422 ms, total: 23.4 s\n",
      "Wall time: 1min 31s\n"
     ]
    }
   ],
   "source": [
    "%%time\n",
    "valRange = range(valMin,valNumRun)#valMax+1)\n",
    "tmpURLs = [valURLBase+str(i) for i in list(valRange)]\n",
    "\n",
    "if __name__ == \"__main__\":\n",
    "    valProcessPool = Pool(processes=20)\n",
    "    tmpResults = valProcessPool.map(getResultPageQuick, tmpURLs)\n",
    "    tmpDFResults = pd.DataFrame(tmpResults,columns=['StatusCode','URL','Response'])\n",
    "    valSBIRLinks = tmpDFResults.apply(lambda x: getResultSBIRLinks(x['Response']),axis=1)\n",
    "    tmpDFSBIRLinks = pd.DataFrame(list(itertools.chain.from_iterable(valSBIRLinks)),columns=['URLSBIR'])"
   ]
  },
  {
   "cell_type": "code",
   "execution_count": 9,
   "metadata": {},
   "outputs": [
    {
     "name": "stdout",
     "output_type": "stream",
     "text": [
      "CPU times: user 495 ms, sys: 252 ms, total: 747 ms\n",
      "Wall time: 1min 30s\n"
     ]
    }
   ],
   "source": [
    "%%time\n",
    "if __name__ == \"__main__\":\n",
    "    tmpDFSBIRLinks['URLSBIRev'] = r'https://www.sbir.gov'+tmpDFSBIRLinks['URLSBIR']\n",
    "    tmpSBIRVals = valProcessPool.map(getResultPageQuick, tmpDFSBIRLinks['URLSBIRev'].tolist())\n",
    "    tmpDFSBIRResults = pd.DataFrame(tmpSBIRVals,columns=['StatusCode','URL','HTMLText'])\n",
    "    tmpSBIRResponse = pd.merge(left=tmpDFSBIRLinks,right=tmpDFSBIRResults,left_on='URLSBIRev',right_on='URL',how='outer')"
   ]
  },
  {
   "cell_type": "code",
   "execution_count": 10,
   "metadata": {},
   "outputs": [
    {
     "name": "stdout",
     "output_type": "stream",
     "text": [
      "(200, 3)\n",
      "(2000, 5)\n"
     ]
    }
   ],
   "source": [
    "print(tmpDFResults.shape)\n",
    "print(tmpSBIRResponse.shape)"
   ]
  },
  {
   "cell_type": "markdown",
   "metadata": {},
   "source": [
    "# Parse SBIR Records"
   ]
  },
  {
   "cell_type": "code",
   "execution_count": 11,
   "metadata": {},
   "outputs": [],
   "source": [
    "def getSBIRAbstract(valSoup):\n",
    "    #div class=\"abstract-wrapper\"\n",
    "    tmpFind = [i.text.strip() for i in valSoup.findAll(\"div\", class_=\"abstract-wrapper\")]\n",
    "    tmpFind = ' '.join(tmpFind)\n",
    "    tmpFind = re.sub(r'^Abstract','',tmpFind)\n",
    "    tmpFind = tmpFind.strip()\n",
    "    return(tmpFind)\n",
    "\n",
    "def getSBIRDetails(valSoup):\n",
    "    #span class=\"open-label\"\n",
    "    tmpFindLabels = [i.text for i in valSoup.findAll(\"span\", class_=\"open-label\")]\n",
    "    tmpFindValues = [i.text for i in valSoup.findAll(\"span\", class_=\"open-description\")]\n",
    "    return(tmpFindLabels,tmpFindValues)"
   ]
  },
  {
   "cell_type": "code",
   "execution_count": 12,
   "metadata": {},
   "outputs": [
    {
     "name": "stdout",
     "output_type": "stream",
     "text": [
      "CPU times: user 1min 11s, sys: 1.17 s, total: 1min 12s\n",
      "Wall time: 1min 12s\n"
     ]
    }
   ],
   "source": [
    "%%time\n",
    "tmpSBIRResponse2 = tmpSBIRResponse.copy()\n",
    "tmpSBIRResponse2['Soup'] = tmpSBIRResponse2['HTMLText'].apply(lambda x: BeautifulSoup(x,'lxml'))\n",
    "tmpSBIRResponse2['Abstract'] = tmpSBIRResponse2['Soup'].apply(getSBIRAbstract)\n",
    "tmpOtherFields = tmpSBIRResponse2['Soup'].apply(getSBIRDetails)\n",
    "\n",
    "tmpDFOtherField = pd.DataFrame()\n",
    "for index,i in enumerate(tmpOtherFields):\n",
    "    if(len(i[0])==len(i[1])):\n",
    "        tmpValues = pd.DataFrame([i[1]],columns=i[0])\n",
    "        tmpDFOtherField = tmpDFOtherField.append(tmpValues,ignore_index=True)\n",
    "    else:\n",
    "        print(\"Error at \"+str(index))\n",
    "\n",
    "tmpFinalSBIRs = tmpSBIRResponse2.join(tmpDFOtherField)\n",
    "tmpFinalSBIRs = tmpFinalSBIRs.drop(['HTMLText','Soup','URLSBIR','URLSBIRev'],axis=1)"
   ]
  },
  {
   "cell_type": "code",
   "execution_count": 13,
   "metadata": {},
   "outputs": [],
   "source": [
    "tmpWriter = pd.ExcelWriter(r'./SBIRAwards.xlsx',engine='xlsxwriter',options={'strings_to_urls': False})\n",
    "tmpFinalSBIRs.to_excel(tmpWriter)\n",
    "tmpWriter.close()"
   ]
  },
  {
   "cell_type": "code",
   "execution_count": null,
   "metadata": {},
   "outputs": [],
   "source": []
  }
 ],
 "metadata": {
  "kernelspec": {
   "display_name": "Python 3",
   "language": "python",
   "name": "python3"
  },
  "language_info": {
   "codemirror_mode": {
    "name": "ipython",
    "version": 3
   },
   "file_extension": ".py",
   "mimetype": "text/x-python",
   "name": "python",
   "nbconvert_exporter": "python",
   "pygments_lexer": "ipython3",
   "version": "3.6.5"
  }
 },
 "nbformat": 4,
 "nbformat_minor": 2
}
