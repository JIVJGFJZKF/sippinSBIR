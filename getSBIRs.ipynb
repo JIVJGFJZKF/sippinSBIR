{
 "cells": [
  {
   "cell_type": "code",
   "execution_count": 1,
   "metadata": {},
   "outputs": [],
   "source": [
    "import pandas as pd\n",
    "import requests\n",
    "from bs4 import BeautifulSoup"
   ]
  },
  {
   "cell_type": "markdown",
   "metadata": {},
   "source": [
    "# Setup Functions"
   ]
  },
  {
   "cell_type": "code",
   "execution_count": 2,
   "metadata": {
    "scrolled": false
   },
   "outputs": [],
   "source": [
    "# valHTML is a Python response from a get.\n",
    "def findResultsPageMax(valHTML):\n",
    "    rtnVal = -1\n",
    "    valBS = BeautifulSoup(valHTML.text,'lxml')\n",
    "    valTags = valBS.find_all('li')\n",
    "    tmpURLs = []\n",
    "    for i in valTags:\n",
    "        valAs = i.find('a')\n",
    "        try:\n",
    "            tmpURLs.append(valAs.attrs['href'])\n",
    "        except:\n",
    "            None\n",
    "    tmpAllURLs = pd.DataFrame({'URLs': tmpURLs})\n",
    "    tmpSubset = tmpAllURLs.loc[tmpAllURLs['URLs'].str.contains('/sbirsearch/award/all\\?page=')].copy()\n",
    "    tmpSubset['Number'] = tmpSubset['URLs'].str.extract('([0-9]+)$',expand=False)\n",
    "    tmpSubset['Number'] = pd.to_numeric(tmpSubset['Number'])\n",
    "    tmpSubset.dropna(inplace=True)\n",
    "    rtnVal = int(max(tmpSubset['Number']))\n",
    "    return(rtnVal)"
   ]
  },
  {
   "cell_type": "code",
   "execution_count": 3,
   "metadata": {},
   "outputs": [],
   "source": [
    "def getResultPage(valURL,valMaxTries):\n",
    "    valCnt = 1\n",
    "    isBad = True\n",
    "    rtnVal = None\n",
    "    while(isBad and valCnt < valMaxTries):\n",
    "        try:\n",
    "            tmpResponse = requests.get(valURL)\n",
    "            if(tmpResponse.status_code==200):\n",
    "                isBad = False\n",
    "                rtnVal = tmpResponse\n",
    "        except:\n",
    "            None\n",
    "        valCnt += 1\n",
    "    return(rtnVal)"
   ]
  },
  {
   "cell_type": "code",
   "execution_count": 4,
   "metadata": {},
   "outputs": [],
   "source": [
    "def getResultSBIRLinks(valHTML):\n",
    "    valBS = BeautifulSoup(valHTML.text,'lxml')\n",
    "    valTags = valBS.find_all('h3')\n",
    "    tmpURLs = []\n",
    "    for i in valTags:\n",
    "        valAs = i.find('a')\n",
    "        tmpURLs.append(valAs.attrs['href'])\n",
    "    return(tmpURLs)"
   ]
  },
  {
   "cell_type": "markdown",
   "metadata": {},
   "source": [
    "# Get SBIR Results"
   ]
  },
  {
   "cell_type": "code",
   "execution_count": 5,
   "metadata": {},
   "outputs": [
    {
     "name": "stdout",
     "output_type": "stream",
     "text": [
      "Finished Retrieving 0 Pages...\n",
      "CPU times: user 3.02 s, sys: 76 ms, total: 3.09 s\n",
      "Wall time: 29.4 s\n"
     ]
    }
   ],
   "source": [
    "%%time\n",
    "valRetries = 10\n",
    "valMin = 0\n",
    "valURLBase = r'https://www.sbir.gov/sbirsearch/award/all?page='\n",
    "\n",
    "valMax = findResultsPageMax(getResultPage(valURLBase+str(valMin),100))\n",
    "valRange = range(valMin,20)#valMax+1)\n",
    "tmpResultsPage = []\n",
    "tmpSBIRLinks = pd.DataFrame()\n",
    "\n",
    "for i in valRange:\n",
    "    tmpURL = valURLBase+str(i)\n",
    "    valSearchResultsPage = getResultPage(tmpURL,valRetries)\n",
    "    tmpResultsPage.append(valSearchResultsPage)\n",
    "    valSBIRLinks = getResultSBIRLinks(valSearchResultsPage)\n",
    "    tmpDF = pd.DataFrame({'SBIRLink': valSBIRLinks})\n",
    "    tmpDF['ResultsPage'] = i\n",
    "    tmpSBIRLinks = tmpSBIRLinks.append(tmpDF)\n",
    "    if((i % 1000)==0):\n",
    "        print(\"Finished Retrieving \"+str(i)+\" Pages...\")"
   ]
  },
  {
   "cell_type": "code",
   "execution_count": 6,
   "metadata": {},
   "outputs": [
    {
     "name": "stdout",
     "output_type": "stream",
     "text": [
      "CPU times: user 3.89 s, sys: 402 ms, total: 4.29 s\n",
      "Wall time: 2min 33s\n"
     ]
    }
   ],
   "source": [
    "%%time\n",
    "tmpSBIRLinks['SBIRLinkRev'] = r'https://www.sbir.gov'+tmpSBIRLinks['SBIRLink']\n",
    "tmpSBIRLinks['SBIResponse'] = tmpSBIRLinks['SBIRLinkRev'].apply(lambda x: getResultPage(x,valRetries))\n",
    "tmpSBIRLinks['SBIRText'] = tmpSBIRLinks['SBIResponse'].apply(lambda x: x.text)"
   ]
  },
  {
   "cell_type": "code",
   "execution_count": 7,
   "metadata": {},
   "outputs": [],
   "source": [
    "tmpSBIRLinks.to_excel('./SBIRAwards.xlsx')"
   ]
  },
  {
   "cell_type": "code",
   "execution_count": null,
   "metadata": {},
   "outputs": [],
   "source": []
  }
 ],
 "metadata": {
  "kernelspec": {
   "display_name": "Python 3",
   "language": "python",
   "name": "python3"
  },
  "language_info": {
   "codemirror_mode": {
    "name": "ipython",
    "version": 3
   },
   "file_extension": ".py",
   "mimetype": "text/x-python",
   "name": "python",
   "nbconvert_exporter": "python",
   "pygments_lexer": "ipython3",
   "version": "3.6.5"
  }
 },
 "nbformat": 4,
 "nbformat_minor": 2
}
